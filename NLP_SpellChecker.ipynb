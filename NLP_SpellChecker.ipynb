{
  "nbformat": 4,
  "nbformat_minor": 0,
  "metadata": {
    "colab": {
      "name": "NLP_SpellChecker.ipynb",
      "provenance": [],
      "collapsed_sections": [],
      "authorship_tag": "ABX9TyMq4RfCh+J4ngyhdFmkewHS",
      "include_colab_link": true
    },
    "kernelspec": {
      "name": "python3",
      "display_name": "Python 3"
    },
    "language_info": {
      "name": "python"
    }
  },
  "cells": [
    {
      "cell_type": "markdown",
      "metadata": {
        "id": "view-in-github",
        "colab_type": "text"
      },
      "source": [
        "<a href=\"https://colab.research.google.com/github/SaiVishwa2003/NLP_project-Spell_Checker/blob/main/NLP_SpellChecker.ipynb\" target=\"_parent\"><img src=\"https://colab.research.google.com/assets/colab-badge.svg\" alt=\"Open In Colab\"/></a>"
      ]
    },
    {
      "cell_type": "markdown",
      "source": [
        "1)USING SPELLCHECKER LIBRARY"
      ],
      "metadata": {
        "id": "Dh03JKQ6wiF8"
      }
    },
    {
      "cell_type": "code",
      "execution_count": null,
      "metadata": {
        "colab": {
          "base_uri": "https://localhost:8080/"
        },
        "id": "ifcDrxl3vMA_",
        "outputId": "2fb4941b-a340-4def-ebad-6456e47dd90a"
      },
      "outputs": [
        {
          "output_type": "stream",
          "name": "stdout",
          "text": [
            "Collecting pyspellchecker\n",
            "  Downloading pyspellchecker-0.6.3-py3-none-any.whl (2.7 MB)\n",
            "\u001b[K     |████████████████████████████████| 2.7 MB 8.5 MB/s \n",
            "\u001b[?25hInstalling collected packages: pyspellchecker\n",
            "Successfully installed pyspellchecker-0.6.3\n"
          ]
        }
      ],
      "source": [
        "!pip install pyspellchecker"
      ]
    },
    {
      "cell_type": "code",
      "source": [
        "from spellchecker import SpellChecker  #IMPORT SPELLCHECKER LIBRARY"
      ],
      "metadata": {
        "id": "5zphjwKSvafG"
      },
      "execution_count": null,
      "outputs": []
    },
    {
      "cell_type": "code",
      "source": [
        "spell = SpellChecker()  \n",
        "misspelled = spell.unknown([\"cmputr\", \"watr\", \"study\", \"wrte\"])   #LIST OF MISSPELLED WORDS"
      ],
      "metadata": {
        "id": "e4avJi5Kvenz"
      },
      "execution_count": null,
      "outputs": []
    },
    {
      "cell_type": "code",
      "source": [
        "for word in misspelled:\n",
        "    print(spell.correction(word))   # GET THE ONE \"MOST LIKELY\" ANSWER\n",
        "    print(spell.candidates(word))    # GET THE SET OF  \" LIKELY\" ANSWER"
      ],
      "metadata": {
        "colab": {
          "base_uri": "https://localhost:8080/"
        },
        "id": "K1j3Qw9UvgGS",
        "outputId": "56780e43-370d-48f5-d29e-a6e00a800b26"
      },
      "execution_count": null,
      "outputs": [
        {
          "output_type": "stream",
          "name": "stdout",
          "text": [
            "computer\n",
            "{'caputo', 'computer', 'impute', 'caput', 'compute'}\n",
            "water\n",
            "{'wanr', 'wate', 'water', 'wath', 'wart', 'wats', 'war', 'wat', 'atr', 'waar', 'watt', 'watc'}\n"
          ]
        }
      ]
    },
    {
      "cell_type": "markdown",
      "source": [
        "2)USING TEXTBLOB"
      ],
      "metadata": {
        "id": "PNdCZtcjt9gf"
      }
    },
    {
      "cell_type": "markdown",
      "source": [
        "2.1)Method 1"
      ],
      "metadata": {
        "id": "6qX1Bh2TuKfD"
      }
    },
    {
      "cell_type": "code",
      "source": [
        "from textblob import TextBlob"
      ],
      "metadata": {
        "id": "3dAKuHSAvkWq"
      },
      "execution_count": null,
      "outputs": []
    },
    {
      "cell_type": "code",
      "source": [
        "a = \"cmputr\"           # incorrect spelling\n",
        "print(\"original text: \"+str(a))\n",
        " \n",
        "b = TextBlob(a)\n",
        "print(\"corrected text: \"+str(b.correct())) # prints the corrected spelling"
      ],
      "metadata": {
        "colab": {
          "base_uri": "https://localhost:8080/"
        },
        "id": "Q8TwfxXzvpI7",
        "outputId": "92600a57-1cf2-4506-c86e-9c554fa9772b"
      },
      "execution_count": null,
      "outputs": [
        {
          "output_type": "stream",
          "name": "stdout",
          "text": [
            "original text: cmputr\n",
            "corrected text: computer\n"
          ]
        }
      ]
    },
    {
      "cell_type": "markdown",
      "source": [
        "2.2)Method **2**"
      ],
      "metadata": {
        "id": "qVWGX_FCuO7j"
      }
    },
    {
      "cell_type": "code",
      "source": [
        "from textblob import Word"
      ],
      "metadata": {
        "id": "s61UpS18vzI_"
      },
      "execution_count": null,
      "outputs": []
    },
    {
      "cell_type": "code",
      "source": [
        "word = Word('appple')"
      ],
      "metadata": {
        "id": "WGIsb01Lv1pQ"
      },
      "execution_count": null,
      "outputs": []
    },
    {
      "cell_type": "code",
      "source": [
        "result = word.correct()\n",
        "print(result)"
      ],
      "metadata": {
        "colab": {
          "base_uri": "https://localhost:8080/"
        },
        "id": "0gfqo1w8v4CD",
        "outputId": "ddd0418c-b8c2-45fe-d018-f05d52ae81fc"
      },
      "execution_count": null,
      "outputs": [
        {
          "output_type": "stream",
          "name": "stdout",
          "text": [
            "apple\n"
          ]
        }
      ]
    }
  ]
}